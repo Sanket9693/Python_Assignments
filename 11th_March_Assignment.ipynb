{
 "cells": [
  {
   "cell_type": "markdown",
   "id": "72ec8323",
   "metadata": {},
   "source": [
    "## Digit or Alphabet"
   ]
  },
  {
   "cell_type": "code",
   "execution_count": 29,
   "id": "30a5ce96",
   "metadata": {},
   "outputs": [
    {
     "name": "stdout",
     "output_type": "stream",
     "text": [
      "Enter the input: A\n",
      "Alphabet\n"
     ]
    }
   ],
   "source": [
    "n=input(\"Enter the input: \")\n",
    "if(n>='a' and n<='z') or (n>='A' and n<='Z'):\n",
    "    print(\"Alphabet\")\n",
    "elif(n>='0' and n<='9'):\n",
    "    print(\"Digit\")\n",
    "else:\n",
    "    print(\"wrong input\")"
   ]
  },
  {
   "cell_type": "markdown",
   "id": "53185bbb",
   "metadata": {},
   "source": [
    "### Write a program to accept a character and display its next and previous character.\n",
    "\n"
   ]
  },
  {
   "cell_type": "code",
   "execution_count": 7,
   "id": "d1451beb",
   "metadata": {},
   "outputs": [
    {
     "name": "stdout",
     "output_type": "stream",
     "text": [
      "Enter a character@\n",
      "The previous character is  ?\n",
      "The next character is  A\n"
     ]
    }
   ],
   "source": [
    "n=input(\"Enter a character\")\n",
    "n1=ord(n)\n",
    "#n2=n1+1\n",
    "#n3=n1-1\n",
    "print(\"The previous character is \",chr(n1-1))\n",
    "print(\"The next character is \",chr(n1+1))"
   ]
  },
  {
   "cell_type": "markdown",
   "id": "a20612bc",
   "metadata": {},
   "source": [
    "###  Write a program to accept a string from the user, delete all vowels from the string and display the result."
   ]
  },
  {
   "cell_type": "code",
   "execution_count": 13,
   "id": "2252ded1",
   "metadata": {},
   "outputs": [
    {
     "name": "stdout",
     "output_type": "stream",
     "text": [
      "Enter a string: CDAC KHARGHAR\n",
      "CDC KHRGHR\n"
     ]
    }
   ],
   "source": [
    "n=input(\"Enter a string: \")\n",
    "vowels=['a','A','e','E','i','I','o','O','u','U']\n",
    "n1=\"\"\n",
    "for i in range(len(n)):\n",
    "    if n[i] in vowels:\n",
    "        n1=n1\n",
    "    else:\n",
    "        n1=n1+n[i]\n",
    "print(n1)"
   ]
  },
  {
   "cell_type": "markdown",
   "id": "a2136de7",
   "metadata": {},
   "source": [
    "### Write a program to accept three sides of a triangle as the input and print whether the triangle is valid or not.\n",
    " "
   ]
  },
  {
   "cell_type": "code",
   "execution_count": 19,
   "id": "863446a0",
   "metadata": {},
   "outputs": [
    {
     "name": "stdout",
     "output_type": "stream",
     "text": [
      "Enter first side 1\n",
      "Enter second side 4\n",
      "Enter third side 5\n",
      "Invalid\n"
     ]
    }
   ],
   "source": [
    "a=int(input(\"Enter first side \"))\n",
    "b=int(input(\"Enter second side \"))\n",
    "c=int(input(\"Enter third side \"))\n",
    "if(a+b>c and b+c>a and a+c>b):\n",
    "    print(\"Valid\")\n",
    "else:\n",
    "    print(\"Invalid\")"
   ]
  },
  {
   "cell_type": "markdown",
   "id": "89509eba",
   "metadata": {},
   "source": [
    "### Write a program to display the multiplication table of a given number. "
   ]
  },
  {
   "cell_type": "code",
   "execution_count": 29,
   "id": "ed90bbd6",
   "metadata": {},
   "outputs": [
    {
     "name": "stdout",
     "output_type": "stream",
     "text": [
      "Enter the number10\n",
      "  10 * 1 = 10\n",
      "  10 * 2 = 20\n",
      "  10 * 3 = 30\n",
      "  10 * 4 = 40\n",
      "  10 * 5 = 50\n",
      "  10 * 6 = 60\n",
      "  10 * 7 = 70\n",
      "  10 * 8 = 80\n",
      "  10 * 9 = 90\n",
      "  10 * 10 = 100\n"
     ]
    }
   ],
   "source": [
    "n=int(input(\"Enter the number\"))\n",
    "for i in range(1,11):\n",
    "    n1=n*i\n",
    "    print(\" \",n,\"*\",i,\"=\",n1)"
   ]
  },
  {
   "cell_type": "markdown",
   "id": "8917183c",
   "metadata": {},
   "source": [
    "### Write a program to accept a string value from the user and accept a char value from the user and find out the total occurrence of the char value in the string value. Note that the count is not case-sensitive"
   ]
  },
  {
   "cell_type": "code",
   "execution_count": 33,
   "id": "0e0ba9b1",
   "metadata": {},
   "outputs": [
    {
     "name": "stdout",
     "output_type": "stream",
     "text": [
      "Enter the string Python Programming\n",
      "Enter the character P\n",
      "2\n"
     ]
    }
   ],
   "source": [
    "s=input(\"Enter the string \")\n",
    "c=input(\"Enter the character \")\n",
    "count=0\n",
    "for i in range(len(s)):\n",
    "    if s[i]==c:\n",
    "        count+=1\n",
    "    else:\n",
    "        count=count\n",
    "print(count)"
   ]
  },
  {
   "cell_type": "markdown",
   "id": "57ae2d38",
   "metadata": {},
   "source": [
    "### Write a program to calculate the sum of the digits of a given number"
   ]
  },
  {
   "cell_type": "code",
   "execution_count": 6,
   "id": "d2569d1c",
   "metadata": {},
   "outputs": [
    {
     "name": "stdout",
     "output_type": "stream",
     "text": [
      "Enter the number 983\n",
      "20\n"
     ]
    }
   ],
   "source": [
    "n=int(input(\"Enter the number \"))\n",
    "sum=0\n",
    "while(n!=0):\n",
    "    n1=n%10\n",
    "    sum=sum+n1\n",
    "    n=n//10\n",
    "print(sum)\n"
   ]
  },
  {
   "cell_type": "markdown",
   "id": "5f4c445d",
   "metadata": {},
   "source": [
    "### Write a program to accept a number from the user and count the zeros, odd digits and non-zero even digits from the entered number."
   ]
  },
  {
   "cell_type": "code",
   "execution_count": 11,
   "id": "6e6343ed",
   "metadata": {},
   "outputs": [
    {
     "name": "stdout",
     "output_type": "stream",
     "text": [
      "Enter the number 1030\n",
      "Number of odd digits:  2\n",
      "Number of non-zero even digits   0\n",
      "Number of zeros  2\n"
     ]
    }
   ],
   "source": [
    "n=(input(\"Enter the number \"))\n",
    "cz=0\n",
    "ce=0\n",
    "co=0\n",
    "for i in n:\n",
    "    if(int(i)==0):\n",
    "        cz+=1\n",
    "    elif(int(i)%2==0 and int(i)!=0):\n",
    "        ce+=1\n",
    "    else:\n",
    "        co+=1\n",
    "print(\"Number of odd digits: \",co)\n",
    "print(\"Number of non-zero even digits  \",ce)\n",
    "print(\"Number of zeros \",cz)"
   ]
  },
  {
   "cell_type": "markdown",
   "id": "36a082c6",
   "metadata": {},
   "source": [
    "### Write a program that takes a string as the input and does the following:\n",
    "\n",
    "-Removes the numbers, special characters\n",
    "\n",
    "-Converts uppercase letters to lowercase letters, and vice versa \n"
   ]
  },
  {
   "cell_type": "code",
   "execution_count": 24,
   "id": "a541fcd8",
   "metadata": {},
   "outputs": [
    {
     "name": "stdout",
     "output_type": "stream",
     "text": [
      "Enter the string Sanket123\n"
     ]
    },
    {
     "ename": "TypeError",
     "evalue": "string indices must be integers",
     "output_type": "error",
     "traceback": [
      "\u001b[1;31m---------------------------------------------------------------------------\u001b[0m",
      "\u001b[1;31mTypeError\u001b[0m                                 Traceback (most recent call last)",
      "\u001b[1;32m~\\AppData\\Local\\Temp/ipykernel_4892/4007272547.py\u001b[0m in \u001b[0;36m<module>\u001b[1;34m\u001b[0m\n\u001b[0;32m      7\u001b[0m \u001b[1;32mfor\u001b[0m \u001b[0mi\u001b[0m \u001b[1;32min\u001b[0m \u001b[0mn1\u001b[0m \u001b[1;33m:\u001b[0m\u001b[1;33m\u001b[0m\u001b[1;33m\u001b[0m\u001b[0m\n\u001b[0;32m      8\u001b[0m     \u001b[1;32mif\u001b[0m \u001b[0mi\u001b[0m\u001b[1;33m.\u001b[0m\u001b[0misupper\u001b[0m\u001b[1;33m(\u001b[0m\u001b[1;33m)\u001b[0m\u001b[1;33m:\u001b[0m\u001b[1;33m\u001b[0m\u001b[1;33m\u001b[0m\u001b[0m\n\u001b[1;32m----> 9\u001b[1;33m         \u001b[0mn2\u001b[0m\u001b[1;33m=\u001b[0m\u001b[0mint\u001b[0m\u001b[1;33m(\u001b[0m\u001b[0mn1\u001b[0m\u001b[1;33m[\u001b[0m\u001b[0mi\u001b[0m\u001b[1;33m]\u001b[0m\u001b[1;33m.\u001b[0m\u001b[0mlower\u001b[0m\u001b[1;33m(\u001b[0m\u001b[1;33m)\u001b[0m\u001b[1;33m)\u001b[0m\u001b[1;33m\u001b[0m\u001b[1;33m\u001b[0m\u001b[0m\n\u001b[0m\u001b[0;32m     10\u001b[0m     \u001b[1;32melse\u001b[0m\u001b[1;33m:\u001b[0m\u001b[1;33m\u001b[0m\u001b[1;33m\u001b[0m\u001b[0m\n\u001b[0;32m     11\u001b[0m         \u001b[0mn2\u001b[0m\u001b[1;33m=\u001b[0m\u001b[0mint\u001b[0m\u001b[1;33m(\u001b[0m\u001b[0mn1\u001b[0m\u001b[1;33m[\u001b[0m\u001b[0mi\u001b[0m\u001b[1;33m]\u001b[0m\u001b[1;33m.\u001b[0m\u001b[0mupper\u001b[0m\u001b[1;33m(\u001b[0m\u001b[1;33m)\u001b[0m\u001b[1;33m)\u001b[0m\u001b[1;33m\u001b[0m\u001b[1;33m\u001b[0m\u001b[0m\n",
      "\u001b[1;31mTypeError\u001b[0m: string indices must be integers"
     ]
    }
   ],
   "source": [
    "n=input(\"Enter the string \")\n",
    "n1=\"\"\n",
    "n2=\"\"\n",
    "for i in n :\n",
    "    if i.isalpha():\n",
    "        n1=n1+i\n",
    "for i in n1 :\n",
    "    if i.isupper():\n",
    "        n2=n1[i].lower()\n",
    "    else:\n",
    "        n2=n1[i].upper()\n",
    "        \n",
    "print(n2)"
   ]
  },
  {
   "cell_type": "code",
   "execution_count": null,
   "id": "2f02c422",
   "metadata": {},
   "outputs": [],
   "source": []
  }
 ],
 "metadata": {
  "kernelspec": {
   "display_name": "Python 3 (ipykernel)",
   "language": "python",
   "name": "python3"
  },
  "language_info": {
   "codemirror_mode": {
    "name": "ipython",
    "version": 3
   },
   "file_extension": ".py",
   "mimetype": "text/x-python",
   "name": "python",
   "nbconvert_exporter": "python",
   "pygments_lexer": "ipython3",
   "version": "3.9.7"
  }
 },
 "nbformat": 4,
 "nbformat_minor": 5
}
