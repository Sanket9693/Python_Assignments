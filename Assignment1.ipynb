{
 "cells": [
  {
   "cell_type": "markdown",
   "id": "48b783de",
   "metadata": {},
   "source": [
    "#### 1.Write a program to display \"Hello\" if a number entered by user is a multiple of five , otherwise print \"Bye\"."
   ]
  },
  {
   "cell_type": "code",
   "execution_count": 16,
   "id": "9113ddb7",
   "metadata": {},
   "outputs": [
    {
     "name": "stdout",
     "output_type": "stream",
     "text": [
      "Enter a number: 10\n",
      "Hello\n"
     ]
    }
   ],
   "source": [
    "n = int(input(\"Enter a number: \"))\n",
    "if(n%5==0):\n",
    "    print(\"Hello\")\n",
    "else:\n",
    "    print(\"Bye\")"
   ]
  },
  {
   "cell_type": "markdown",
   "id": "b652b584",
   "metadata": {},
   "source": [
    "#### 2.Write a program to check whether a number is divisible by 7 or not."
   ]
  },
  {
   "cell_type": "code",
   "execution_count": 18,
   "id": "77f36675",
   "metadata": {},
   "outputs": [
    {
     "name": "stdout",
     "output_type": "stream",
     "text": [
      "Enter a number: 48\n",
      "Given number is not divisible by 7\n"
     ]
    }
   ],
   "source": [
    "n = int(input(\"Enter a number: \"))\n",
    "if(n%7==0):\n",
    "    print(\"Given number is divisible by 7\")\n",
    "else:\n",
    "    print(\"Given number is not divisible by 7\")"
   ]
  },
  {
   "cell_type": "markdown",
   "id": "2da1d537",
   "metadata": {},
   "source": [
    "#### 3.Write a program to check whether a person is eligible for voting or not. (accept age from user)"
   ]
  },
  {
   "cell_type": "code",
   "execution_count": 22,
   "id": "acd580f5",
   "metadata": {},
   "outputs": [
    {
     "name": "stdout",
     "output_type": "stream",
     "text": [
      "Enter your age: 15\n",
      "The person is not eligible for voting\n"
     ]
    }
   ],
   "source": [
    "n =int(input(\"Enter your age: \"))\n",
    "if(n>18):\n",
    "    print(\"The person is eligible for voting\")\n",
    "else:\n",
    "    print(\"The person is not eligible for voting\")"
   ]
  },
  {
   "cell_type": "markdown",
   "id": "060bc3a1",
   "metadata": {},
   "source": [
    "#### 4.Write a program to check whether a number entered by user is even or odd.\n",
    " "
   ]
  },
  {
   "cell_type": "code",
   "execution_count": 25,
   "id": "537fed9d",
   "metadata": {},
   "outputs": [
    {
     "name": "stdout",
     "output_type": "stream",
     "text": [
      "Enter a number: 106\n",
      "Given number is even\n"
     ]
    }
   ],
   "source": [
    "n = int(input(\"Enter a number: \"))\n",
    "if(n%2==0):\n",
    "    print(\"Given number is even\")\n",
    "else:\n",
    "    print(\"Given number is odd\")"
   ]
  },
  {
   "cell_type": "markdown",
   "id": "34fdf4cb",
   "metadata": {},
   "source": [
    "##### 5.Write a program to calculate the electricity bill (accept number of unit from user) according to the following criteria : Unit Price\n",
    "First 100 units no charge Next 100 units Rs 5 per unit After 200 units Rs 10 per unit (For example if input unit is 350 than total bill amount is Rs2000)\n",
    "\n"
   ]
  },
  {
   "cell_type": "code",
   "execution_count": 14,
   "id": "5fcf8ba2",
   "metadata": {},
   "outputs": [
    {
     "name": "stdout",
     "output_type": "stream",
     "text": [
      "Enter the number of units: 350\n",
      "The electricity bill is Rs  2000\n"
     ]
    }
   ],
   "source": [
    "n = int(input(\"Enter the number of units: \"))\n",
    "bill=0\n",
    "if(n<=100):\n",
    "    print(\"No charge\")\n",
    "    bill=n*0\n",
    "    \n",
    "if(100<=n<200):\n",
    "    bill=(n-100)*5\n",
    "\n",
    "if(n>200):\n",
    "    bill=(n-200)*10 +500\n",
    "print(\"The electricity bill is Rs \",bill)\n",
    "    \n",
    "    "
   ]
  },
  {
   "cell_type": "markdown",
   "id": "e07382ff",
   "metadata": {},
   "source": [
    "#### 6.Write a program to display the last digit of a number. (hint : any number % 10 will return the last digit)"
   ]
  },
  {
   "cell_type": "code",
   "execution_count": 15,
   "id": "84506509",
   "metadata": {},
   "outputs": [
    {
     "name": "stdout",
     "output_type": "stream",
     "text": [
      "Enter the number 2069\n",
      "9\n"
     ]
    }
   ],
   "source": [
    "n = int(input(\"Enter the number \"))\n",
    "p=n%10\n",
    "print(p)"
   ]
  },
  {
   "cell_type": "markdown",
   "id": "08b0f671",
   "metadata": {},
   "source": [
    "##### 7.Write a program to accept percentage from the user and display the grade according to the following criteria:\n",
    "\n",
    "  Marks                                    \n",
    "  > 90    A                                     \n",
    "  > 80 and <= 90   B\n",
    "  >= 60 and <= 80    C\n",
    "  below 60  D\n"
   ]
  },
  {
   "cell_type": "code",
   "execution_count": 37,
   "id": "d30d0c42",
   "metadata": {},
   "outputs": [
    {
     "name": "stdout",
     "output_type": "stream",
     "text": [
      "Enter the percentage 65\n",
      "Grade C\n"
     ]
    }
   ],
   "source": [
    "n = int(input(\"Enter the percentage \"))\n",
    "if(n>90):\n",
    "    print(\"Grade A\")\n",
    "elif(80<n<=90):\n",
    "    print(\"Grade B\")\n",
    "elif(60<n<=80):\n",
    "    print(\"Grade C\")\n",
    "else:\n",
    "    print(\"Grade D\")"
   ]
  },
  {
   "cell_type": "markdown",
   "id": "836b6222",
   "metadata": {},
   "source": [
    "##### 8.Write a program to accept the cost price of a bike and display the road tax to be paid according to the following criteria :\n",
    "\n",
    " Cost price (in Rs)        Tax\n",
    " \n",
    " > 100000                                                  15 %\n",
    " \n",
    " > 50000 and <= 100000                          10%\n",
    " \n",
    " <= 50000                                                  5% "
   ]
  },
  {
   "cell_type": "code",
   "execution_count": 1,
   "id": "9aa017ec",
   "metadata": {},
   "outputs": [
    {
     "name": "stdout",
     "output_type": "stream",
     "text": [
      "enter your bike price  10000000\n",
      "Tax to be paid is Rs.  1500000.0\n"
     ]
    }
   ],
   "source": [
    "a=int(input('enter your bike price  '))\n",
    "if(a>100000):\n",
    "    t= (a* 0.15)\n",
    "    print('Tax to be paid is Rs. ',t)\n",
    "elif(100000>=a>50000):\n",
    "    t= a*0.1\n",
    "    print('Tax to be paid is Rs. ',t)\n",
    "else:\n",
    "    t=a*0.05\n",
    "    print('Tax to be paid is Rs. ',t)\n"
   ]
  },
  {
   "cell_type": "markdown",
   "id": "e68ccc20",
   "metadata": {},
   "source": [
    "#### 9.Write a program to check whether an years is leap year or not."
   ]
  },
  {
   "cell_type": "code",
   "execution_count": 38,
   "id": "1f65496e",
   "metadata": {},
   "outputs": [
    {
     "name": "stdout",
     "output_type": "stream",
     "text": [
      "Enter the year 2004\n",
      "Given year is leap\n"
     ]
    }
   ],
   "source": [
    "year = int(input(\"Enter the year \"))\n",
    "if(year%4==0):\n",
    "    if(year%100==0):\n",
    "        if(year%400==0):\n",
    "            print(\"Given year is leap\")\n",
    "        else:\n",
    "            print(\"Given year is not leap\")\n",
    "    else:\n",
    "        print(\"Given year is leap\")\n",
    "else:\n",
    "    print(\"Given year is not leap\")"
   ]
  },
  {
   "cell_type": "markdown",
   "id": "67706ba4",
   "metadata": {},
   "source": [
    "#### 10.Write a program to accept a number from 1 to 7 and display the name of the day like 1 for Sunday , 2 for Monday and so on."
   ]
  },
  {
   "cell_type": "code",
   "execution_count": 17,
   "id": "e0666a46",
   "metadata": {},
   "outputs": [
    {
     "name": "stdout",
     "output_type": "stream",
     "text": [
      "Enter the number from 1 to 7 3\n",
      "\n",
      "Wednesday\n"
     ]
    }
   ],
   "source": [
    "n = int(input(\"Enter the number from 1 to 7 \"))\n",
    "if(n==1):\n",
    "    print(\"\\nMonday\");\n",
    "elif(n==2):\n",
    "    print(\"\\nTuesday\")\n",
    "elif(n==3):\n",
    "    print(\"\\nWednesday\")\n",
    "elif(n==4):\n",
    "    print(\"\\nThursday\")\n",
    "elif(n==5):\n",
    "    print(\"\\nFriday\")\n",
    "elif(n==6):\n",
    "    print(\"\\nSaturday\")\n",
    "elif(n==7):\n",
    "    print(\"\\nSunday\")\n",
    "else :\n",
    "    print(\"Enter the correct number\")\n",
    "\n"
   ]
  },
  {
   "cell_type": "markdown",
   "id": "6455161c",
   "metadata": {},
   "source": [
    "#### 11.Accept any city from the user and display monument of that city."
   ]
  },
  {
   "cell_type": "code",
   "execution_count": 4,
   "id": "143c413c",
   "metadata": {},
   "outputs": [
    {
     "name": "stdout",
     "output_type": "stream",
     "text": [
      "Enter the city name Jaipur\n",
      "Jal Mahal\n"
     ]
    }
   ],
   "source": [
    "city = input(\"Enter the city name \")\n",
    "if(city==\"Delhi\"):\n",
    "    print(\"Red fort\")\n",
    "elif(city==\"Agra\"):\n",
    "    print(\"Taj Mahal\")\n",
    "elif(city==\"Jaipur\"):\n",
    "    print(\"Jal Mahal\")\n",
    "else:\n",
    "    print(\"Enter correct city name\")\n",
    "\n"
   ]
  },
  {
   "cell_type": "markdown",
   "id": "953f71de",
   "metadata": {},
   "source": [
    "#### 12.Write a program to check whether a person is senior citizen or not.\n",
    "\n",
    " "
   ]
  },
  {
   "cell_type": "code",
   "execution_count": 51,
   "id": "c7a4f497",
   "metadata": {},
   "outputs": [
    {
     "name": "stdout",
     "output_type": "stream",
     "text": [
      "Enter your age: 65\n",
      "The person is senior citizen\n"
     ]
    }
   ],
   "source": [
    "n =int(input(\"Enter your age: \"))\n",
    "if(n>60):\n",
    "    print(\"The person is senior citizen\")\n",
    "else:\n",
    "    print(\"The person is not senior citizen\")"
   ]
  },
  {
   "cell_type": "markdown",
   "id": "0c82aa96",
   "metadata": {},
   "source": [
    "#### 13.Write a program to whether a number (accepted from user) is divisible by 2 and 3 both.\n",
    "\n",
    " "
   ]
  },
  {
   "cell_type": "code",
   "execution_count": 53,
   "id": "18aab686",
   "metadata": {},
   "outputs": [
    {
     "name": "stdout",
     "output_type": "stream",
     "text": [
      "Enter the number56\n",
      "Given number is not divisible by 2 and 3\n"
     ]
    }
   ],
   "source": [
    "n =int(input(\"Enter the number\"))\n",
    "if(n%2==0 and n%3==0):\n",
    "    print(\"Given number is divisible by 2 and 3\")\n",
    "else:\n",
    "    print(\"Given number is not divisible by 2 and 3\")"
   ]
  },
  {
   "cell_type": "markdown",
   "id": "710bb437",
   "metadata": {},
   "source": [
    "#### 14.Write a program to check whether a number (accepted from user) is positive or negative.\n",
    "\n"
   ]
  },
  {
   "cell_type": "code",
   "execution_count": 54,
   "id": "3319aa79",
   "metadata": {},
   "outputs": [
    {
     "name": "stdout",
     "output_type": "stream",
     "text": [
      "Enter the number-20\n",
      "Given number is negative\n"
     ]
    }
   ],
   "source": [
    "n =int(input(\"Enter the number\"))\n",
    "if(n>0):\n",
    "    print(\"Given number is positive\")\n",
    "else:\n",
    "    print(\"Given number is negative\")"
   ]
  },
  {
   "cell_type": "markdown",
   "id": "b21c3824",
   "metadata": {},
   "source": [
    "#### 15.Accept the age of 4 people and display the youngest one? "
   ]
  },
  {
   "cell_type": "code",
   "execution_count": 56,
   "id": "b5ecff88",
   "metadata": {},
   "outputs": [
    {
     "name": "stdout",
     "output_type": "stream",
     "text": [
      "Enter first person age90\n",
      "Enter second person age: 50\n",
      "Enter third person age:60\n",
      "Second person is youngest\n"
     ]
    }
   ],
   "source": [
    "a1=int(input('Enter first person age'))\n",
    "a2=int(input('Enter second person age: '))\n",
    "a3=int(input('Enter third person age:'))\n",
    "\n",
    "if(a1<a2 and a1<a3):\n",
    "    print('First person is youngest')\n",
    "elif(a2<a1 and a2<a3):\n",
    "    print('Second person is youngest')\n",
    "else:\n",
    "     print('Third person is youngest')"
   ]
  },
  {
   "cell_type": "markdown",
   "id": "36782d49",
   "metadata": {},
   "source": [
    "#### 16.Write a program to check a character is vowel or not. "
   ]
  },
  {
   "cell_type": "code",
   "execution_count": 60,
   "id": "253a2ff1",
   "metadata": {},
   "outputs": [
    {
     "name": "stdout",
     "output_type": "stream",
     "text": [
      "Enter the characterp\n",
      "Given character is not vowel\n"
     ]
    }
   ],
   "source": [
    "n=input('Enter the character')\n",
    "list=['a','e','i','o','u']\n",
    "if(n in list):\n",
    "    print(\"Given character is vowel\")\n",
    "else:\n",
    "    print(\"Given character is not vowel\")"
   ]
  },
  {
   "cell_type": "markdown",
   "id": "dc004ed2",
   "metadata": {},
   "source": [
    "#### 17.Accept the following from the user and calculate the percentage of class attended:\n",
    "a. Total number of working days\n",
    "\n",
    "b. Total number of days for absent\n",
    "\n",
    "After calculating percentage show that, If the percentage is less than 75, than student will not be able to sit in exam.\n"
   ]
  },
  {
   "cell_type": "code",
   "execution_count": 6,
   "id": "f516db7c",
   "metadata": {},
   "outputs": [
    {
     "name": "stdout",
     "output_type": "stream",
     "text": [
      "Enter total number of working days103\n",
      "Enter total number of days for absent23\n",
      "Student will be able to sit in exam\n"
     ]
    }
   ],
   "source": [
    "n=float(input(\"Enter total number of working days\"))\n",
    "n1=float(input(\"Enter total number of days for absent\"))\n",
    "n2=n-n1\n",
    "p=(n2/n)*100\n",
    "if(p<75):\n",
    "    print(\"Student will not be able to sit in exam\")\n",
    "else:\n",
    "    print(\"Student will be able to sit in exam\")"
   ]
  },
  {
   "cell_type": "markdown",
   "id": "99fab39a",
   "metadata": {},
   "source": [
    "##### 18.Accept three sides of a triangle and check whether it is an equilateral, isosceles or scalene triangle.\n",
    "Note :\n",
    "\n",
    "An equilateral triangle is a triangle in which all three sides are equal.\n",
    "\n",
    "A scalene triangle is a triangle that has three unequal sides.\n",
    "\n",
    "An isosceles triangle is a triangle with (at least) two equal sides."
   ]
  },
  {
   "cell_type": "code",
   "execution_count": 8,
   "id": "04fd1f0a",
   "metadata": {},
   "outputs": [
    {
     "name": "stdout",
     "output_type": "stream",
     "text": [
      "Enter first side25\n",
      "Enter second side36\n",
      "Enter third side25\n",
      "Given triangle is an isosceles\n"
     ]
    }
   ],
   "source": [
    "a=int(input(\"Enter first side\"))\n",
    "b=int(input(\"Enter second side\"))\n",
    "c=int(input(\"Enter third side\"))\n",
    "if(a==b==c):\n",
    "    print(\"Given triangle is an equilateral\")\n",
    "elif(a==b or b==c or a==c):\n",
    "    print(\"Given triangle is an isosceles\")\n",
    "else:\n",
    "    print(\"Given triangle is a scalene\")"
   ]
  },
  {
   "cell_type": "markdown",
   "id": "9df93873",
   "metadata": {},
   "source": [
    "#### 19.Accept the age, sex (‘M’, ‘F’), number of days and display the wages accordingly\n",
    "Age Sex Wage/day\n",
    "\n",
    "=18 and <30 M 700 F 750 =30 and <=40 M 800 F 850 "
   ]
  },
  {
   "cell_type": "code",
   "execution_count": 13,
   "id": "baca6370",
   "metadata": {},
   "outputs": [
    {
     "name": "stdout",
     "output_type": "stream",
     "text": [
      "Enter the age 25\n",
      "Enter the genderm\n",
      "Enter the working days 36\n",
      "Wage is 25200\n"
     ]
    }
   ],
   "source": [
    "age = int(input(\"Enter the age \"))\n",
    "gen = input(\"Enter the gender\")\n",
    "c = int(input(\"Enter the working days \"))\n",
    "\n",
    "if gen == 'm' and age in range(18, 30):\n",
    "    s = 700\n",
    "    wage = s * c\n",
    "    print(\"Wage is\", wage )\n",
    "elif gen == 'm' and age in range(30, 41):\n",
    "    s = 800\n",
    "    wage = s * c\n",
    "    print(\"Wage is\", wage )\n",
    "elif gen == 'f' and age in range(18, 30):\n",
    "    s = 750\n",
    "    wage = s * c\n",
    "    print(\"Wage is\", wage )\n",
    "elif gen == 'f' and age in range(30, 41):\n",
    "    s = 850\n",
    "    wage = s * c\n",
    "    print(\"Wage is\", wage )\n"
   ]
  },
  {
   "cell_type": "markdown",
   "id": "961868a1",
   "metadata": {},
   "source": [
    "#### 20.Accept three sides of triangle and check whether the triangle is possible or not.\n",
    "(triangle is possible only when sum of any two sides is greater than 3rd side)\n",
    "\n",
    " "
   ]
  },
  {
   "cell_type": "code",
   "execution_count": 11,
   "id": "0cb98424",
   "metadata": {},
   "outputs": [
    {
     "name": "stdout",
     "output_type": "stream",
     "text": [
      "Enter first side58\n",
      "Enter second side103\n",
      "Enter third side200\n",
      "The triangle is possible\n"
     ]
    }
   ],
   "source": [
    "a=int(input(\"Enter first side\"))\n",
    "b=int(input(\"Enter second side\"))\n",
    "c=int(input(\"Enter third side\"))\n",
    "if(a+b>c or b+c>a or a+c>b):\n",
    "    print(\"The triangle is possible\")\n",
    "else:\n",
    "    print(\"The triangle is not possible\")"
   ]
  }
 ],
 "metadata": {
  "kernelspec": {
   "display_name": "Python 3 (ipykernel)",
   "language": "python",
   "name": "python3"
  },
  "language_info": {
   "codemirror_mode": {
    "name": "ipython",
    "version": 3
   },
   "file_extension": ".py",
   "mimetype": "text/x-python",
   "name": "python",
   "nbconvert_exporter": "python",
   "pygments_lexer": "ipython3",
   "version": "3.9.7"
  }
 },
 "nbformat": 4,
 "nbformat_minor": 5
}
